{
  "nbformat": 4,
  "nbformat_minor": 0,
  "metadata": {
    "colab": {
      "name": "03c_ExercicioClassificacao.ipynb",
      "provenance": [],
      "collapsed_sections": [],
      "include_colab_link": true
    },
    "kernelspec": {
      "name": "python3",
      "display_name": "Python 3"
    }
  },
  "cells": [
    {
      "cell_type": "markdown",
      "metadata": {
        "id": "view-in-github",
        "colab_type": "text"
      },
      "source": [
        "<a href=\"https://colab.research.google.com/github/valmirf/mineracao_textual/blob/main/Classifica%C3%A7%C3%A3o/03c_ExercicioClassificacao.ipynb\" target=\"_parent\"><img src=\"https://colab.research.google.com/assets/colab-badge.svg\" alt=\"Open In Colab\"/></a>"
      ]
    },
    {
      "cell_type": "code",
      "metadata": {
        "colab": {
          "base_uri": "https://localhost:8080/"
        },
        "id": "hExOp5OvKZlB",
        "outputId": "c07755e4-d0ac-44eb-fe61-716b5adf0f0b"
      },
      "source": [
        "!git clone https://github.com/valmirf/mineracao_textual.git"
      ],
      "execution_count": 1,
      "outputs": [
        {
          "output_type": "stream",
          "text": [
            "Cloning into 'mineracao_textual'...\n",
            "remote: Enumerating objects: 30, done.\u001b[K\n",
            "remote: Counting objects: 100% (30/30), done.\u001b[K\n",
            "remote: Compressing objects: 100% (27/27), done.\u001b[K\n",
            "remote: Total 30 (delta 9), reused 0 (delta 0), pack-reused 0\u001b[K\n",
            "Unpacking objects: 100% (30/30), done.\n"
          ],
          "name": "stdout"
        }
      ]
    },
    {
      "cell_type": "markdown",
      "metadata": {
        "id": "YGfG7BHb-W-r"
      },
      "source": [
        "# Exercício: Classificando Reviews de Roupas"
      ]
    },
    {
      "cell_type": "code",
      "metadata": {
        "id": "-3IMacGw8BP6",
        "colab": {
          "base_uri": "https://localhost:8080/",
          "height": 414
        },
        "outputId": "2b583251-3cac-4025-94d4-71e1af73bc1e"
      },
      "source": [
        "import pandas as pd\n",
        "\n",
        "df = data = pd.read_csv(\"mineracao_textual/Dados/ClothingReviews.csv\")\n",
        "df.head()"
      ],
      "execution_count": 2,
      "outputs": [
        {
          "output_type": "execute_result",
          "data": {
            "text/html": [
              "<div>\n",
              "<style scoped>\n",
              "    .dataframe tbody tr th:only-of-type {\n",
              "        vertical-align: middle;\n",
              "    }\n",
              "\n",
              "    .dataframe tbody tr th {\n",
              "        vertical-align: top;\n",
              "    }\n",
              "\n",
              "    .dataframe thead th {\n",
              "        text-align: right;\n",
              "    }\n",
              "</style>\n",
              "<table border=\"1\" class=\"dataframe\">\n",
              "  <thead>\n",
              "    <tr style=\"text-align: right;\">\n",
              "      <th></th>\n",
              "      <th>Unnamed: 0</th>\n",
              "      <th>Clothing ID</th>\n",
              "      <th>Age</th>\n",
              "      <th>Title</th>\n",
              "      <th>Review Text</th>\n",
              "      <th>Rating</th>\n",
              "      <th>Recommended IND</th>\n",
              "      <th>Positive Feedback Count</th>\n",
              "      <th>Division Name</th>\n",
              "      <th>Department Name</th>\n",
              "      <th>Class Name</th>\n",
              "      <th>Unnamed: 11</th>\n",
              "    </tr>\n",
              "  </thead>\n",
              "  <tbody>\n",
              "    <tr>\n",
              "      <th>0</th>\n",
              "      <td>13992</td>\n",
              "      <td>862</td>\n",
              "      <td>38</td>\n",
              "      <td>NaN</td>\n",
              "      <td>A comfortable shirt that has a touch of dressy...</td>\n",
              "      <td>4</td>\n",
              "      <td>1</td>\n",
              "      <td>2</td>\n",
              "      <td>General</td>\n",
              "      <td>Tops</td>\n",
              "      <td>Knits</td>\n",
              "      <td>NaN</td>\n",
              "    </tr>\n",
              "    <tr>\n",
              "      <th>1</th>\n",
              "      <td>2603</td>\n",
              "      <td>863</td>\n",
              "      <td>64</td>\n",
              "      <td>Very cute</td>\n",
              "      <td>A couple of months ago i bought the white in t...</td>\n",
              "      <td>5</td>\n",
              "      <td>1</td>\n",
              "      <td>0</td>\n",
              "      <td>General</td>\n",
              "      <td>Tops</td>\n",
              "      <td>Knits</td>\n",
              "      <td>NaN</td>\n",
              "    </tr>\n",
              "    <tr>\n",
              "      <th>2</th>\n",
              "      <td>8409</td>\n",
              "      <td>1046</td>\n",
              "      <td>41</td>\n",
              "      <td>Yessssss!!!!!</td>\n",
              "      <td>A culotte and basketball short hybrid. these c...</td>\n",
              "      <td>5</td>\n",
              "      <td>1</td>\n",
              "      <td>0</td>\n",
              "      <td>General</td>\n",
              "      <td>Bottoms</td>\n",
              "      <td>Pants</td>\n",
              "      <td>NaN</td>\n",
              "    </tr>\n",
              "    <tr>\n",
              "      <th>3</th>\n",
              "      <td>4339</td>\n",
              "      <td>1094</td>\n",
              "      <td>29</td>\n",
              "      <td>Runs very small</td>\n",
              "      <td>A cute dress, though waist a little too high (...</td>\n",
              "      <td>4</td>\n",
              "      <td>1</td>\n",
              "      <td>26</td>\n",
              "      <td>General</td>\n",
              "      <td>Dresses</td>\n",
              "      <td>Dresses</td>\n",
              "      <td>NaN</td>\n",
              "    </tr>\n",
              "    <tr>\n",
              "      <th>4</th>\n",
              "      <td>12870</td>\n",
              "      <td>1078</td>\n",
              "      <td>48</td>\n",
              "      <td>Wish it had a little more shape</td>\n",
              "      <td>A cute dress. i did not have the issue with th...</td>\n",
              "      <td>4</td>\n",
              "      <td>1</td>\n",
              "      <td>0</td>\n",
              "      <td>General Petite</td>\n",
              "      <td>Dresses</td>\n",
              "      <td>Dresses</td>\n",
              "      <td>NaN</td>\n",
              "    </tr>\n",
              "  </tbody>\n",
              "</table>\n",
              "</div>"
            ],
            "text/plain": [
              "   Unnamed: 0  Clothing ID  Age  ... Department Name Class Name Unnamed: 11\n",
              "0       13992          862   38  ...            Tops      Knits         NaN\n",
              "1        2603          863   64  ...            Tops      Knits         NaN\n",
              "2        8409         1046   41  ...         Bottoms      Pants         NaN\n",
              "3        4339         1094   29  ...         Dresses    Dresses         NaN\n",
              "4       12870         1078   48  ...         Dresses    Dresses         NaN\n",
              "\n",
              "[5 rows x 12 columns]"
            ]
          },
          "metadata": {
            "tags": []
          },
          "execution_count": 2
        }
      ]
    },
    {
      "cell_type": "markdown",
      "metadata": {
        "id": "mIcfqQGH-G_F"
      },
      "source": [
        "Analise a distribuição das classes, indicadas na coluna `Class Name`"
      ]
    },
    {
      "cell_type": "code",
      "metadata": {
        "id": "I_NLk1Ev-qqF",
        "colab": {
          "base_uri": "https://localhost:8080/"
        },
        "outputId": "1b715dbe-8fef-4d45-da5b-f59b156702a6"
      },
      "source": [
        "# sua resposta\n",
        "df['Class Name'].value_counts()"
      ],
      "execution_count": 3,
      "outputs": [
        {
          "output_type": "execute_result",
          "data": {
            "text/plain": [
              "Dresses       96\n",
              "Knits         61\n",
              "Blouses       54\n",
              "Sweaters      20\n",
              "Jeans         17\n",
              "Jackets       14\n",
              "Pants         14\n",
              "Skirts        13\n",
              "Fine gauge    11\n",
              "Outerwear      6\n",
              "Sleep          5\n",
              "Lounge         5\n",
              "Swim           4\n",
              "Intimates      4\n",
              "Legwear        4\n",
              "Shorts         3\n",
              "Layering       3\n",
              "Tops           1\n",
              "Name: Class Name, dtype: int64"
            ]
          },
          "metadata": {
            "tags": []
          },
          "execution_count": 3
        }
      ]
    },
    {
      "cell_type": "markdown",
      "metadata": {
        "id": "uPzg6Wcs-1rl"
      },
      "source": [
        "Analise a distribuição do comprimento dos reviews, plote um histograma (`DataFrame.plot.hist()`)"
      ]
    },
    {
      "cell_type": "code",
      "metadata": {
        "id": "UAiZekzx-0-N",
        "colab": {
          "base_uri": "https://localhost:8080/",
          "height": 284
        },
        "outputId": "e2fa4abc-5c66-4201-b4cd-2c05e77bf95a"
      },
      "source": [
        "# sua resposta\n",
        "df['ReviewLenght'] = df['Review Text'].apply(lambda x: len(x))\n",
        "df['ReviewLenght'].plot.hist()"
      ],
      "execution_count": 4,
      "outputs": [
        {
          "output_type": "execute_result",
          "data": {
            "text/plain": [
              "<matplotlib.axes._subplots.AxesSubplot at 0x7fd853e1dc90>"
            ]
          },
          "metadata": {
            "tags": []
          },
          "execution_count": 4
        },
        {
          "output_type": "display_data",
          "data": {
            "image/png": "[encoded data removed]",
            "text/plain": [
              "<Figure size 432x288 with 1 Axes>"
            ]
          },
          "metadata": {
            "tags": [],
            "needs_background": "light"
          }
        }
      ]
    },
    {
      "cell_type": "markdown",
      "metadata": {
        "id": "Yfm1MeotAh4Z"
      },
      "source": [
        "Aplique a função de encoding de rótulos categóricos do Sklearn ([LabelEncoder](https://scikit-learn.org/stable/modules/generated/sklearn.preprocessing.LabelEncoder.html)) para converter os rótulos de classe em numeros. Salve em uma coluna adicional no dataframe."
      ]
    },
    {
      "cell_type": "code",
      "metadata": {
        "id": "WkVpxbybA9fm"
      },
      "source": [
        ""
      ],
      "execution_count": null,
      "outputs": []
    },
    {
      "cell_type": "markdown",
      "metadata": {
        "id": "w3oDZj-l8o-7"
      },
      "source": [
        "Aplique o pipeline de pré-processamento utilizando o NLTK ou SpaCy (tokenização e remoção de stopwords), e em seguida, utilize as funções de transformação do Scikit-Learn para textos, utilizando os atributos de n-gramas para classificar os textos:\n",
        "```\n",
        "from sklearn.feature_extraction.text import TfidfVectorizer\n",
        "vectorizer = TfidfVectorizer(use_idf=True)\n",
        "```\n",
        "No qual você pode passar os valores de intervalos de n-gramas:\n",
        "- um intervalo de ngram de (1, 1) significa apenas unigramas\n",
        "- (1, 2) significa unigramas e bigrams \n",
        "- (2, 2) significa apenas bigrams"
      ]
    },
    {
      "cell_type": "code",
      "metadata": {
        "id": "4jWJ-CsH_2KV"
      },
      "source": [
        ""
      ],
      "execution_count": null,
      "outputs": []
    },
    {
      "cell_type": "markdown",
      "metadata": {
        "id": "rvhV-u3N_2Wo"
      },
      "source": [
        "Separe o conjunto em treino e teste. Utilize a função `sklearn.model_selection.train_test_split()`"
      ]
    },
    {
      "cell_type": "code",
      "metadata": {
        "id": "rpg1zl1gAHlD"
      },
      "source": [
        ""
      ],
      "execution_count": null,
      "outputs": []
    },
    {
      "cell_type": "markdown",
      "metadata": {
        "id": "Wuh4HvH9AH03"
      },
      "source": [
        "Treine um modelo com o algoritmo `NaiveBayes`, e salve as predições para o conjunto de testes na variável `preds`"
      ]
    },
    {
      "cell_type": "code",
      "metadata": {
        "id": "Sirb-mtbAR7H"
      },
      "source": [
        "preds = []"
      ],
      "execution_count": null,
      "outputs": []
    },
    {
      "cell_type": "markdown",
      "metadata": {
        "id": "AExPjo0p_vjJ"
      },
      "source": [
        "Analise os resultados das predições"
      ]
    },
    {
      "cell_type": "code",
      "metadata": {
        "id": "hwO2v9gmAYuW"
      },
      "source": [
        "from sklearn import metrics\n",
        "print(metrics.classification_report(preds, df['Class Name']))"
      ],
      "execution_count": null,
      "outputs": []
    },
    {
      "cell_type": "markdown",
      "metadata": {
        "id": "Fp25T82nBDgo"
      },
      "source": [
        "Discuta os resultados. "
      ]
    },
    {
      "cell_type": "code",
      "metadata": {
        "id": "ZccK0slbBNLH"
      },
      "source": [
        ""
      ],
      "execution_count": null,
      "outputs": []
    }
  ]
}